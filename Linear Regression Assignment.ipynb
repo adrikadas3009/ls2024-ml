{
 "cells": [
  {
   "cell_type": "code",
   "execution_count": 1,
   "metadata": {},
   "outputs": [],
   "source": [
    "import numpy as np\n",
    "import pandas as pd\n",
    "import matplotlib.pyplot as plt\n",
    "\n",
    "# Aim is to predict the marks of students of the test data"
   ]
  },
  {
   "cell_type": "code",
   "execution_count": 2,
   "metadata": {},
   "outputs": [],
   "source": [
    "# Use the file namd 'training data' to train the model\n",
    "\n",
    "data = pd.read_excel('Training data.xlsx')\n",
    "x_train = np.array(data.iloc[:,0:8])\n",
    "y_train = np.array(data.iloc[:,8]).reshape(-1,1)\n",
    "\n",
    "# Try plotting y_train with different features\n",
    "# To get an idea whether to add some features or not\n",
    "# Add some features if required in x_train\n",
    "\n",
    "# Also do label encoding for features not represented in numbers\n",
    "# refer the link if not know : https://youtu.be/589nCGeWG1w?si=t2Wa7LgbUOO4RooM\n",
    "\n",
    "def feature_changing(x_train):\n",
    "  for i in range(x_train.shape[0]):\n",
    "    if(x_train[i][0] == 'no'):\n",
    "      x_train[i][0] = 0\n",
    "    else:\n",
    "      x_train[i][0] = 1  \n",
    "  for i in range(x_train.shape[0]):\n",
    "    if(x_train[i][1] == 'F'):\n",
    "      x_train[i][1] = 0\n",
    "    else:\n",
    "      x_train[i][1] = 1    \n",
    "  return x_train\n",
    "x_train = feature_changing(x_train)"
   ]
  },
  {
   "cell_type": "code",
   "execution_count": 3,
   "metadata": {},
   "outputs": [],
   "source": [
    "def z_score(x_train):\n",
    "    x_mean = np.mean(x_train,axis = 0)\n",
    "    x_std = np.std(x_train,axis = 0)\n",
    "    x_train = (x_train - x_mean)/x_std\n",
    "    return x_train,x_std,x_mean"
   ]
  },
  {
   "cell_type": "code",
   "execution_count": 4,
   "metadata": {},
   "outputs": [],
   "source": [
    "def cost(x_train,y_train,w,b):\n",
    "    m = x_train.shape[0]\n",
    "    f_wb = np.dot(x_train, w) + b\n",
    "    loss = (1 / (2 * m)) * np.sum((f_wb - y_train) ** 2)\n",
    "    return loss"
   ]
  },
  {
   "cell_type": "code",
   "execution_count": 5,
   "metadata": {},
   "outputs": [],
   "source": [
    "def gradient_descent(x_train,y_train,w,b):\n",
    "    m=len(y_train)\n",
    "    alpha=1.0e-6\n",
    "    iterations=10000\n",
    "    for i in range(iterations):\n",
    "        f_wb=np.dot(x_train,w)+b\n",
    "        dw=(1/m)*np.dot(x_train.T,(f_wb-y_train))\n",
    "        db=(1/m)*np.sum(f_wb-y_train)\n",
    "        w=w-alpha*dw\n",
    "        b=b-alpha*db\n",
    "    return w,b"
   ]
  },
  {
   "cell_type": "code",
   "execution_count": 6,
   "metadata": {},
   "outputs": [
    {
     "name": "stdout",
     "output_type": "stream",
     "text": [
      "Congratulations, your accuracy is 100.0%\n"
     ]
    }
   ],
   "source": [
    "x_train = x_train.astype(np.float64)\n",
    "x_train,x_std,x_mean = z_score(x_train)\n",
    "\n",
    "np.random.seed(2147483647)\n",
    "w = np.random.randn(x_train.shape[1],1)\n",
    "b = np.random.randn(1)\n",
    "\n",
    "old_cost = 0\n",
    "\n",
    "while abs(old_cost - cost(x_train,y_train,w,b))>0.00001:\n",
    "  old_cost = cost(x_train,y_train,w,b)\n",
    "  w,b = gradient_descent(x_train,y_train,w,b)\n",
    "\n",
    "x_predict = pd.read_excel('Test data.xlsx').iloc[:,:8].to_numpy()\n",
    "x_predict = feature_changing(x_predict)\n",
    "x_predict = (x_predict - x_mean)/x_std\n",
    "ans = pd.read_excel('Test data.xlsx').iloc[:,8].to_numpy()\n",
    "\n",
    "y_predict = np.dot(x_predict,w) + b\n",
    "\n",
    "accuracy = 0\n",
    "for dim in range(len(ans)):\n",
    "  if abs(y_predict[dim]-ans[dim])<0.5:\n",
    "    accuracy += 1\n",
    "accuracy = round(accuracy*100/200.0,2)\n",
    "ok = 'Congratulations' if accuracy>95 else 'Optimization required'\n",
    "print(f\"{ok}, your accuracy is {accuracy}%\")"
   ]
  }
 ],
 "metadata": {
  "kernelspec": {
   "display_name": "Python (myenv)",
   "language": "python",
   "name": "myenv"
  },
  "language_info": {
   "codemirror_mode": {
    "name": "ipython",
    "version": 3
   },
   "file_extension": ".py",
   "mimetype": "text/x-python",
   "name": "python",
   "nbconvert_exporter": "python",
   "pygments_lexer": "ipython3",
   "version": "3.12.2"
  }
 },
 "nbformat": 4,
 "nbformat_minor": 4
}
